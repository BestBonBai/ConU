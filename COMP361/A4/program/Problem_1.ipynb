{
 "nbformat": 4,
 "nbformat_minor": 2,
 "metadata": {
  "language_info": {
   "name": "python",
   "codemirror_mode": {
    "name": "ipython",
    "version": 3
   },
   "version": "3.7.3-final"
  },
  "orig_nbformat": 2,
  "file_extension": ".py",
  "mimetype": "text/x-python",
  "name": "python",
  "npconvert_exporter": "python",
  "pygments_lexer": "ipython3",
  "version": 3,
  "kernelspec": {
   "name": "python37364bitcomp361pipenv2b18b57641874b5993fe971ca666fd45",
   "display_name": "Python 3.7.3 64-bit ('COMP361': pipenv)"
  }
 },
 "cells": [
  {
   "cell_type": "markdown",
   "metadata": {},
   "source": [
    "# Lagrange Interpolation"
   ]
  },
  {
   "cell_type": "code",
   "execution_count": 122,
   "metadata": {},
   "outputs": [],
   "source": [
    "import matplotlib as mpl\n",
    "import math"
   ]
  },
  {
   "cell_type": "code",
   "execution_count": 123,
   "metadata": {},
   "outputs": [],
   "source": [
    "# function f to be interpolated\n",
    "def f(x):\n",
    "    return math.exp(x);"
   ]
  },
  {
   "cell_type": "code",
   "execution_count": 124,
   "metadata": {},
   "outputs": [],
   "source": [
    "# Lagrange interpolation\n",
    "def lagrange_interpolation(f, listX, xInterpolation, n):\n",
    "    listLi = list()\n",
    "    for i in range(n):\n",
    "        Li = 1\n",
    "        for j in range(n):\n",
    "            if(j == i):\n",
    "                continue\n",
    "            Li = Li * ((xInterpolation - listX[j])/(listX[i] - listX[j]))\n",
    "        listLi.append(Li)\n",
    "\n",
    "    Px = 0\n",
    "    for i in range(n):\n",
    "        p = listLi[i] * f(listX[i])\n",
    "        Px = Px + p\n",
    "    \n",
    "    return Px\n",
    ""
   ]
  },
  {
   "cell_type": "code",
   "execution_count": 125,
   "metadata": {},
   "outputs": [
    {
     "output_type": "stream",
     "name": "stdout",
     "text": "Apporximation of f(1.5), with f = e^x with Lagrange interpolation:  3.577422742688568\n"
    }
   ],
   "source": [
    "# Testing ,with e^x\n",
    "listX = [0, 1, 2]\n",
    "xInterpolation = 1.5\n",
    "n = 2\n",
    "print(\"Apporximation of f(1.5), with f = e^x with Lagrange interpolation: \", lagrange_interpolation(f, listX, xInterpolation, n))"
   ]
  },
  {
   "cell_type": "markdown",
   "metadata": {},
   "source": [
    "## Estimating maximum interpolation error"
   ]
  },
  {
   "cell_type": "code",
   "execution_count": 126,
   "metadata": {},
   "outputs": [],
   "source": [
    "def getListInterpolation(a, b, M):\n",
    "    listInterpolation = list()\n",
    "    fraction = (b - a)/M\n",
    "    temp = a\n",
    "    for i in range(M+1):\n",
    "        listInterpolation.append(temp)\n",
    "        temp += fraction\n",
    "    return listInterpolation\n",
    "\n",
    "def getListX(a, b, n):\n",
    "    listX = list()\n",
    "    fraction = (b - a)/n\n",
    "    temp = a\n",
    "    for i in range(n+1):\n",
    "        listX.append(temp)\n",
    "        temp += fraction\n",
    "    return listX\n",
    "\n",
    "def maxInterpolationError(f, listInterpolation, listP):\n",
    "    maxErr = 0\n",
    "    for i in range(len(listP)):\n",
    "        yi = listInterpolation[i]\n",
    "        real = f(yi)\n",
    "        err = abs(real - listP[i])\n",
    "        if(err > maxErr):\n",
    "            maxErr = err\n",
    "    return maxErr\n",
    "\n",
    "def evaluatePerror(f, a, b, n, M):\n",
    "    listX = getListX(a, b, n)\n",
    "    iterList = getListInterpolation(a, b, M)\n",
    "    listP = list()\n",
    "    for each in iterList:\n",
    "        listP.append(lagrange_interpolation(f, listX, each, n))\n",
    "    return maxInterpolationError(f, iterList, listP)"
   ]
  },
  {
   "cell_type": "code",
   "execution_count": 127,
   "metadata": {},
   "outputs": [],
   "source": [
    "listN = [2, 4, 8, 16]"
   ]
  },
  {
   "cell_type": "markdown",
   "metadata": {},
   "source": [
    "## With $f(x) = sin(\\pi x)$ on the interval \\[ -1, 1 \\]"
   ]
  },
  {
   "cell_type": "code",
   "execution_count": 128,
   "metadata": {},
   "outputs": [],
   "source": [
    "def fSin(x):\n",
    "    return math.sin(math.pi*x)"
   ]
  },
  {
   "cell_type": "code",
   "execution_count": 129,
   "metadata": {},
   "outputs": [
    {
     "output_type": "stream",
     "name": "stdout",
     "text": "FUNCTION F(X) = SIN(PI*X) on interval [-1, 1]\nApproximate Maximum Interpolation of f(x) with n= 2\n0.9999999999999999\n-----------------------------------------------------------\nApproximate Maximum Interpolation of f(x) with n= 4\n0.1807581755118126\n-----------------------------------------------------------\nApproximate Maximum Interpolation of f(x) with n= 8\n0.0012055380604188426\n-----------------------------------------------------------\nApproximate Maximum Interpolation of f(x) with n= 16\n6.652962347697411e-10\n-----------------------------------------------------------\n"
    }
   ],
   "source": [
    "print(\"FUNCTION F(X) = SIN(PI*X) on interval [-1, 1]\")\n",
    "for each in listN:\n",
    "    a = -1\n",
    "    b = 1\n",
    "    n = each\n",
    "    M = 500\n",
    "    print(\"Approximate Maximum Interpolation of f(x) with n=\", n)\n",
    "    print(evaluatePerror(fSin, a, b, n, M))\n",
    "    print(\"-----------------------------------------------------------\")"
   ]
  },
  {
   "cell_type": "markdown",
   "metadata": {},
   "source": [
    "## With $f(x) = \\frac{1}{1+x^{2}}$ on the interval \\[ -2, 2 \\]"
   ]
  },
  {
   "cell_type": "code",
   "execution_count": 130,
   "metadata": {},
   "outputs": [],
   "source": [
    "def f23(x):\n",
    "    return 1/(1+ x**2)"
   ]
  },
  {
   "cell_type": "code",
   "execution_count": 131,
   "metadata": {},
   "outputs": [
    {
     "output_type": "stream",
     "name": "stdout",
     "text": "FUNCTION F(X) = 1/(1+ x^2) on interval [-2, 2]\nApproximate Maximum Interpolation of f(x) with n= 2\n1.6000000000000019\n-----------------------------------------------------------\nApproximate Maximum Interpolation of f(x) with n= 4\n2.400000000000013\n-----------------------------------------------------------\nApproximate Maximum Interpolation of f(x) with n= 8\n3.876923076923118\n-----------------------------------------------------------\nApproximate Maximum Interpolation of f(x) with n= 16\n6.9384129786968085\n-----------------------------------------------------------\n"
    }
   ],
   "source": [
    "print(\"FUNCTION F(X) = 1/(1+ x^2) on interval [-2, 2]\")\n",
    "for each in listN:\n",
    "    a = -2\n",
    "    b = 2\n",
    "    n = each\n",
    "    M = 500\n",
    "    print(\"Approximate Maximum Interpolation of f(x) with n=\", n)\n",
    "    print(evaluatePerror(f23, a, b, n, M))\n",
    "    print(\"-----------------------------------------------------------\")"
   ]
  },
  {
   "cell_type": "markdown",
   "metadata": {},
   "source": [
    "## With $f(x) = \\frac{1}{1+x^{2}}$ on the interval \\[ -5, 5 \\]"
   ]
  },
  {
   "cell_type": "code",
   "execution_count": 132,
   "metadata": {},
   "outputs": [
    {
     "output_type": "stream",
     "name": "stdout",
     "text": "FUNCTION F(X) = 1/(1+ x^2) on interval [-5, 5]\nApproximate Maximum Interpolation of f(x) with n= 2\n1.9230769230769158\n-----------------------------------------------------------\nApproximate Maximum Interpolation of f(x) with n= 4\n4.973474801060893\n-----------------------------------------------------------\nApproximate Maximum Interpolation of f(x) with n= 8\n33.03150327088403\n-----------------------------------------------------------\nApproximate Maximum Interpolation of f(x) with n= 16\n1144.9525535549817\n-----------------------------------------------------------\n"
    }
   ],
   "source": [
    "print(\"FUNCTION F(X) = 1/(1+ x^2) on interval [-5, 5]\")\n",
    "for each in listN:\n",
    "    a = -5\n",
    "    b = 5\n",
    "    n = each\n",
    "    M = 500\n",
    "    print(\"Approximate Maximum Interpolation of f(x) with n=\", n)\n",
    "    print(evaluatePerror(f23, a, b, n, M))\n",
    "    print(\"-----------------------------------------------------------\")"
   ]
  }
 ]
}