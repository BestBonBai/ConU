{
 "nbformat": 4,
 "nbformat_minor": 2,
 "metadata": {
  "language_info": {
   "name": "python",
   "codemirror_mode": {
    "name": "ipython",
    "version": 3
   },
   "version": "3.7.3-final"
  },
  "orig_nbformat": 2,
  "file_extension": ".py",
  "mimetype": "text/x-python",
  "name": "python",
  "npconvert_exporter": "python",
  "pygments_lexer": "ipython3",
  "version": 3,
  "kernelspec": {
   "name": "python37364bitcomp361pipenv2b18b57641874b5993fe971ca666fd45",
   "display_name": "Python 3.7.3 64-bit ('COMP361': pipenv)"
  }
 },
 "cells": [
  {
   "cell_type": "markdown",
   "metadata": {},
   "source": [
    "# Problem 3\n",
    "Consider the *discrete logistic equation*, discussed in the Lecture Notes, and given by\n",
    "$$x^{k+1} = cx^{k}(1 − x^{k})$$  k = 0, 1, 2, 3, · · · .\n",
    " \n",
    "For each of the following values of c, determine analytically the fixed points and\n",
    "whether they are attracting or repelling: c = 0.70, c = 1.00, c = 1.80, c = 2.00, c = 3.30, c = 3.50, c = 3.97. (You need only consider “physically meaningful” fixed points, namely those that lie in the interval [0,1].) \n",
    "+ If a fixed point is attracting then\n",
    "determine analytically if the convergence is linear or quadratic.\n",
    "+ If the convergence is linear then analytically determine the rate of convergence.\n",
    "For each case include a statement that describes the behavior of the iterations, as also shown in the Lecture Notes."
   ]
  },
  {
   "cell_type": "code",
   "execution_count": null,
   "metadata": {},
   "outputs": [],
   "source": []
  }
 ]
}