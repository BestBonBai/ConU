{
 "nbformat": 4,
 "nbformat_minor": 2,
 "metadata": {
  "language_info": {
   "name": "python",
   "codemirror_mode": {
    "name": "ipython",
    "version": 3
   },
   "version": "3.7.3-final"
  },
  "orig_nbformat": 2,
  "file_extension": ".py",
  "mimetype": "text/x-python",
  "name": "python",
  "npconvert_exporter": "python",
  "pygments_lexer": "ipython3",
  "version": 3,
  "kernelspec": {
   "name": "python37364bitcomp361pipenv2b18b57641874b5993fe971ca666fd45",
   "display_name": "Python 3.7.3 64-bit ('COMP361': pipenv)"
  }
 },
 "cells": [
  {
   "cell_type": "markdown",
   "metadata": {},
   "source": [
    "# Problem 3\n",
    "Consider the *discrete logistic equation*, discussed in the Lecture Notes, and given by\n",
    "$$x^{k+1} = cx^{k}(1 − x^{k})$$  k = 0, 1, 2, 3, · · · .\n",
    " \n",
    "For each of the following values of c, determine analytically the fixed points and\n",
    "whether they are attracting or repelling: c = 0.70, c = 1.00, c = 1.80, c = 2.00, c = 3.30, c = 3.50, c = 3.97. (You need only consider “physically meaningful” fixed points, namely those that lie in the interval [0,1].) \n",
    "+ If a fixed point is attracting then\n",
    "determine analytically if the convergence is linear or quadratic.\n",
    "+ If the convergence is linear then analytically determine the rate of convergence.\n",
    "For each case include a statement that describes the behavior of the iterations, as also shown in the Lecture Notes."
   ]
  },
  {
   "cell_type": "code",
   "execution_count": 74,
   "metadata": {},
   "outputs": [],
   "source": [
    "import numpy as np"
   ]
  },
  {
   "cell_type": "markdown",
   "metadata": {},
   "source": [
    "## Define functions and its derivative"
   ]
  },
  {
   "cell_type": "code",
   "execution_count": 75,
   "metadata": {},
   "outputs": [],
   "source": [
    "def f(c, x):\n",
    "    return c*x*(1 - x)\n",
    "\n",
    "def logistic_equation(f, c, init_x, max_iter=1000):\n",
    "    x = init_x\n",
    "    estimates = []\n",
    "    listX = [x]\n",
    "    for i in range(max_iter):\n",
    "        x = f(c, x)\n",
    "        listX.append(x)\n",
    "        estimates.append(x)\n",
    "    return x, listX, estimates"
   ]
  },
  {
   "cell_type": "code",
   "execution_count": 76,
   "metadata": {},
   "outputs": [],
   "source": [
    "def printIterations(c):\n",
    "    init_guess = 0.5\n",
    "    numOfIteration = 10\n",
    "\n",
    "    finalX, listX, estimates = logistic_equation(f, c, init_guess, numOfIteration)\n",
    "    count = 0\n",
    "    for x, xi in zip(listX, estimates):\n",
    "        count += 1\n",
    "        print('Iteration no. ', count)\n",
    "        print('Xi = ', x)\n",
    "        print('X(i+1) = ', xi, '\\n')"
   ]
  },
  {
   "cell_type": "markdown",
   "metadata": {},
   "source": [
    "## Running iterations"
   ]
  },
  {
   "cell_type": "code",
   "execution_count": 77,
   "metadata": {},
   "outputs": [
    {
     "output_type": "stream",
     "name": "stdout",
     "text": "Iteration no.  1\nXi =  0.5\nX(i+1) =  0.175 \n\nIteration no.  2\nXi =  0.175\nX(i+1) =  0.10106249999999999 \n\nIteration no.  3\nXi =  0.10106249999999999\nX(i+1) =  0.06359420976562499 \n\nIteration no.  4\nXi =  0.06359420976562499\nX(i+1) =  0.041684990374937475 \n\nIteration no.  5\nXi =  0.041684990374937475\nX(i+1) =  0.027963146366665192 \n\nIteration no.  6\nXi =  0.027963146366665192\nX(i+1) =  0.019026846168359157 \n\nIteration no.  7\nXi =  0.019026846168359157\nX(i+1) =  0.013065377705271327 \n\nIteration no.  8\nXi =  0.013065377705271327\nX(i+1) =  0.009026271527482949 \n\nIteration no.  9\nXi =  0.009026271527482949\nX(i+1) =  0.006261358564856569 \n\nIteration no.  10\nXi =  0.006261358564856569\nX(i+1) =  0.004355507767645206 \n\n"
    }
   ],
   "source": [
    "printIterations(0.7)"
   ]
  },
  {
   "cell_type": "code",
   "execution_count": 78,
   "metadata": {},
   "outputs": [
    {
     "output_type": "stream",
     "name": "stdout",
     "text": "Iteration no.  1\nXi =  0.5\nX(i+1) =  0.25 \n\nIteration no.  2\nXi =  0.25\nX(i+1) =  0.1875 \n\nIteration no.  3\nXi =  0.1875\nX(i+1) =  0.15234375 \n\nIteration no.  4\nXi =  0.15234375\nX(i+1) =  0.1291351318359375 \n\nIteration no.  5\nXi =  0.1291351318359375\nX(i+1) =  0.11245924956165254 \n\nIteration no.  6\nXi =  0.11245924956165254\nX(i+1) =  0.09981216674968249 \n\nIteration no.  7\nXi =  0.09981216674968249\nX(i+1) =  0.08984969811841606 \n\nIteration no.  8\nXi =  0.08984969811841606\nX(i+1) =  0.08177672986644556 \n\nIteration no.  9\nXi =  0.08177672986644556\nX(i+1) =  0.07508929631879595 \n\nIteration no.  10\nXi =  0.07508929631879595\nX(i+1) =  0.06945089389714401 \n\n"
    }
   ],
   "source": [
    "printIterations(1)"
   ]
  },
  {
   "cell_type": "code",
   "execution_count": 79,
   "metadata": {},
   "outputs": [
    {
     "output_type": "stream",
     "name": "stdout",
     "text": "Iteration no.  1\nXi =  0.5\nX(i+1) =  0.45 \n\nIteration no.  2\nXi =  0.45\nX(i+1) =  0.44550000000000006 \n\nIteration no.  3\nXi =  0.44550000000000006\nX(i+1) =  0.44465355000000006 \n\nIteration no.  4\nXi =  0.44465355000000006\nX(i+1) =  0.44448618685031555 \n\nIteration no.  5\nXi =  0.44448618685031555\nX(i+1) =  0.44445278978924746 \n\nIteration no.  6\nXi =  0.44445278978924746\nX(i+1) =  0.44444611338804446 \n\nIteration no.  7\nXi =  0.44444611338804446\nX(i+1) =  0.4444447782281508 \n\nIteration no.  8\nXi =  0.4444447782281508\nX(i+1) =  0.44444451120098516 \n\nIteration no.  9\nXi =  0.44444451120098516\nX(i+1) =  0.4444444577957446 \n\nIteration no.  10\nXi =  0.4444444577957446\nX(i+1) =  0.44444444711470416 \n\n"
    }
   ],
   "source": [
    "printIterations(1.8)"
   ]
  },
  {
   "cell_type": "code",
   "execution_count": 80,
   "metadata": {},
   "outputs": [
    {
     "output_type": "stream",
     "name": "stdout",
     "text": "Iteration no.  1\nXi =  0.5\nX(i+1) =  0.5 \n\nIteration no.  2\nXi =  0.5\nX(i+1) =  0.5 \n\nIteration no.  3\nXi =  0.5\nX(i+1) =  0.5 \n\nIteration no.  4\nXi =  0.5\nX(i+1) =  0.5 \n\nIteration no.  5\nXi =  0.5\nX(i+1) =  0.5 \n\nIteration no.  6\nXi =  0.5\nX(i+1) =  0.5 \n\nIteration no.  7\nXi =  0.5\nX(i+1) =  0.5 \n\nIteration no.  8\nXi =  0.5\nX(i+1) =  0.5 \n\nIteration no.  9\nXi =  0.5\nX(i+1) =  0.5 \n\nIteration no.  10\nXi =  0.5\nX(i+1) =  0.5 \n\n"
    }
   ],
   "source": [
    "printIterations(2)"
   ]
  },
  {
   "cell_type": "code",
   "execution_count": 81,
   "metadata": {},
   "outputs": [
    {
     "output_type": "stream",
     "name": "stdout",
     "text": "Iteration no.  1\nXi =  0.5\nX(i+1) =  0.825 \n\nIteration no.  2\nXi =  0.825\nX(i+1) =  0.47643750000000007 \n\nIteration no.  3\nXi =  0.47643750000000007\nX(i+1) =  0.8231678683593749 \n\nIteration no.  4\nXi =  0.8231678683593749\nX(i+1) =  0.4803563452381904 \n\nIteration no.  5\nXi =  0.4803563452381904\nX(i+1) =  0.8237266185310761 \n\nIteration no.  6\nXi =  0.8237266185310761\nX(i+1) =  0.4791635522996359 \n\nIteration no.  7\nXi =  0.4791635522996359\nX(i+1) =  0.8235672800758589 \n\nIteration no.  8\nXi =  0.8235672800758589\nX(i+1) =  0.4795039103722253 \n\nIteration no.  9\nXi =  0.4795039103722253\nX(i+1) =  0.8236137040229017 \n\nIteration no.  10\nXi =  0.8236137040229017\nX(i+1) =  0.4794047628763067 \n\n"
    }
   ],
   "source": [
    "printIterations(3.3)"
   ]
  },
  {
   "cell_type": "code",
   "execution_count": 82,
   "metadata": {},
   "outputs": [
    {
     "output_type": "stream",
     "name": "stdout",
     "text": "Iteration no.  1\nXi =  0.5\nX(i+1) =  0.875 \n\nIteration no.  2\nXi =  0.875\nX(i+1) =  0.3828125 \n\nIteration no.  3\nXi =  0.3828125\nX(i+1) =  0.826934814453125 \n\nIteration no.  4\nXi =  0.826934814453125\nX(i+1) =  0.5008976948447526 \n\nIteration no.  5\nXi =  0.5008976948447526\nX(i+1) =  0.87499717950388 \n\nIteration no.  6\nXi =  0.87499717950388\nX(i+1) =  0.3828199037744718 \n\nIteration no.  7\nXi =  0.3828199037744718\nX(i+1) =  0.826940887670016 \n\nIteration no.  8\nXi =  0.826940887670016\nX(i+1) =  0.500883795893397 \n\nIteration no.  9\nXi =  0.500883795893397\nX(i+1) =  0.8749972661668659 \n\nIteration no.  10\nXi =  0.8749972661668659\nX(i+1) =  0.38281967628581853 \n\n"
    }
   ],
   "source": [
    "printIterations(3.5)"
   ]
  },
  {
   "cell_type": "code",
   "execution_count": 83,
   "metadata": {},
   "outputs": [
    {
     "output_type": "stream",
     "name": "stdout",
     "text": "Iteration no.  1\nXi =  0.5\nX(i+1) =  0.9925 \n\nIteration no.  2\nXi =  0.9925\nX(i+1) =  0.02955168749999981 \n\nIteration no.  3\nXi =  0.02955168749999981\nX(i+1) =  0.1138531895056316 \n\nIteration no.  4\nXi =  0.1138531895056316\nX(i+1) =  0.4005358437577546 \n\nIteration no.  5\nXi =  0.4005358437577546\nX(i+1) =  0.9532243200433822 \n\nIteration no.  6\nXi =  0.9532243200433822\nX(i+1) =  0.17701323141321904 \n\nIteration no.  7\nXi =  0.17701323141321904\nX(i+1) =  0.5783478028519408 \n\nIteration no.  8\nXi =  0.5783478028519408\nX(i+1) =  0.9681306384994455 \n\nIteration no.  9\nXi =  0.9681306384994455\nX(i+1) =  0.12248921003346296 \n\nIteration no.  10\nXi =  0.12248921003346296\nX(i+1) =  0.42671784573159943 \n\n"
    }
   ],
   "source": [
    "printIterations(3.97)"
   ]
  }
 ]
}