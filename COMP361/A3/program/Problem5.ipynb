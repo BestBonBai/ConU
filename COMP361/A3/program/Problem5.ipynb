{
 "nbformat": 4,
 "nbformat_minor": 2,
 "metadata": {
  "language_info": {
   "name": "python",
   "codemirror_mode": {
    "name": "ipython",
    "version": 3
   },
   "version": "3.7.3-final"
  },
  "orig_nbformat": 2,
  "file_extension": ".py",
  "mimetype": "text/x-python",
  "name": "python",
  "npconvert_exporter": "python",
  "pygments_lexer": "ipython3",
  "version": 3,
  "kernelspec": {
   "name": "python37364bitcomp361pipenv2b18b57641874b5993fe971ca666fd45",
   "display_name": "Python 3.7.3 64-bit ('COMP361': pipenv)"
  }
 },
 "cells": [
  {
   "cell_type": "markdown",
   "metadata": {},
   "source": [
    "# Problem\n",
    "Problem: Newton’s method to find $\\sqrt[2]{R}$  is:\n",
    "\n",
    "$x_{n+1} = \\frac{1}{2}(x_{n} + \\frac{R}{x_{n}})$ (1)\n",
    " \n",
    "+ Perform three iterations of scheme (1) for computing $\\sqrt{2}$, starting with $x_{0} = 1$.\n",
    "+ Perform three iterations of the bisection method for computing $\\sqrt{2}$, starting with interval \\[ 1, 2 \\].\n",
    "+ Find theoretically the minimum number of iterations in both schemes to achieve $10^{-6}$ accuracy.\n",
    "+ Find numerically the minimum number of iterations in both schemes to achieve $10^{-6}$ accuracy and compare your results with the theoretical estimates."
   ]
  },
  {
   "cell_type": "code",
   "execution_count": 15,
   "metadata": {},
   "outputs": [],
   "source": [
    "import numpy as np"
   ]
  },
  {
   "cell_type": "markdown",
   "metadata": {},
   "source": [
    "## Define function\n",
    "$\\sqrt{2}$ is a zero of the function f(x)= $x^{2} - 2$"
   ]
  },
  {
   "cell_type": "code",
   "execution_count": 16,
   "metadata": {},
   "outputs": [],
   "source": [
    "def f(x):\n",
    "    return x**2 -2"
   ]
  },
  {
   "cell_type": "code",
   "execution_count": 17,
   "metadata": {},
   "outputs": [],
   "source": [
    "def bisection_method(f, a, b, NumOfIteration = 1000):\n",
    "    \"\"\"\n",
    "    a, b: the interval\n",
    "    f: the function to be approximated\n",
    "    \"\"\"\n",
    "    if f(a) * f(b) >= 0:\n",
    "        print('Solution fails')\n",
    "        return None\n",
    "    \n",
    "    a_n = a\n",
    "    b_n = b\n",
    "    midpointRecord = []\n",
    "    for n in range(0, NumOfIteration):\n",
    "        midpoint = (a_n + b_n)/2\n",
    "        midpointRecord.append(midpoint)\n",
    "        fMidpoint = f(midpoint)\n",
    "        if f(a_n) * fMidpoint < 0:\n",
    "            b_n = midpoint\n",
    "        elif f(b_n) * fMidpoint <0:\n",
    "            a_n = midpoint\n",
    "        elif fMidpoint == 0:\n",
    "            print('Found exact solution')\n",
    "            return midpoint\n",
    "    return (a_n + b_n)/2, midpointRecord"
   ]
  },
  {
   "cell_type": "markdown",
   "metadata": {},
   "source": [
    "## Running iteration"
   ]
  },
  {
   "cell_type": "code",
   "execution_count": 18,
   "metadata": {},
   "outputs": [
    {
     "output_type": "stream",
     "name": "stdout",
     "text": "\nIteration no. 1\nMidpoint:  1.5\n\nIteration no. 2\nMidpoint:  1.25\n\nIteration no. 3\nMidpoint:  1.375\nFinal estimation:  1.4375\n"
    }
   ],
   "source": [
    "# Interval [1, 2]\n",
    "a = 1\n",
    "b = 2\n",
    "numOfIteration = 3\n",
    "estimation, midpointRecord = bisection_method(f, a, b, numOfIteration)\n",
    "count = 0\n",
    "for i in midpointRecord:\n",
    "    count += 1\n",
    "    print('\\nIteration no.', count)\n",
    "    print('Midpoint: ', i)\n",
    "\n",
    "print('\\nFinal estimation: ', estimation)"
   ]
  }
 ]
}