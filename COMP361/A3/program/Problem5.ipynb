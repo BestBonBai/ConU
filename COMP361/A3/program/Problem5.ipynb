{
 "nbformat": 4,
 "nbformat_minor": 2,
 "metadata": {
  "language_info": {
   "name": "python",
   "codemirror_mode": {
    "name": "ipython",
    "version": 3
   },
   "version": "3.7.3-final"
  },
  "orig_nbformat": 2,
  "file_extension": ".py",
  "mimetype": "text/x-python",
  "name": "python",
  "npconvert_exporter": "python",
  "pygments_lexer": "ipython3",
  "version": 3,
  "kernelspec": {
   "name": "python37364bitcomp361pipenv2b18b57641874b5993fe971ca666fd45",
   "display_name": "Python 3.7.3 64-bit ('COMP361': pipenv)"
  }
 },
 "cells": [
  {
   "cell_type": "markdown",
   "metadata": {},
   "source": [
    "# Problem\n",
    "Problem: Newton’s method to find $\\sqrt[2]{R}$  is:\n",
    "\n",
    "$x_{n+1} = \\frac{1}{2}(x_{n} + \\frac{R}{x_{n}})$ (1)\n",
    " \n",
    "+ Perform three iterations of scheme (1) for computing $\\sqrt{2}$, starting with $x_{0} = 1$.\n",
    "+ Perform three iterations of the bisection method for computing $\\sqrt{2}$, starting with interval \\[ 1, 2 \\].\n",
    "+ Find theoretically the minimum number of iterations in both schemes to achieve $10^{-6}$ accuracy.\n",
    "+ Find numerically the minimum number of iterations in both schemes to achieve $10^{-6}$ accuracy and compare your results with the theoretical estimates."
   ]
  },
  {
   "cell_type": "code",
   "execution_count": 323,
   "metadata": {},
   "outputs": [],
   "source": [
    "import numpy as np\n",
    "import math"
   ]
  },
  {
   "cell_type": "code",
   "execution_count": 324,
   "metadata": {},
   "outputs": [],
   "source": [
    "# Define global criteria\n",
    "tol = pow(10, -6)\n",
    "r = math.sqrt(2) # real value"
   ]
  },
  {
   "cell_type": "markdown",
   "metadata": {},
   "source": [
    "# Newton method to compute $\\sqrt{2}$\n",
    "$x_{n+1} = \\frac{1}{2}(x_{n} + \\frac{R}{x_{n}})$"
   ]
  },
  {
   "cell_type": "code",
   "execution_count": 325,
   "metadata": {},
   "outputs": [],
   "source": [
    "def newton_f(x, R):\n",
    "    return (1/2)*(x + (R/x))"
   ]
  },
  {
   "cell_type": "code",
   "execution_count": 326,
   "metadata": {},
   "outputs": [],
   "source": [
    "def newton_method(f, x, R, NumOfIteration = 1000):\n",
    "    init_x = x\n",
    "    estimates = []\n",
    "    listX = [x]\n",
    "    for i in range(numOfIteration):\n",
    "        x = newton_f(x, R)\n",
    "        listX.append(x)\n",
    "        estimates.append(x)\n",
    "    return x, listX, estimates\n",
    "\n",
    "def newton_MinOfIteration(f, x, R, tol, r, numOfIteration = 1000):\n",
    "    init_x = x\n",
    "    n = 0\n",
    "    for i in range(numOfIteration):\n",
    "        n += 1\n",
    "        x = newton_f(x, R)\n",
    "        if(abs(r - x)) <= tol:\n",
    "            return n\n",
    "    print('The min of iteration satisfies tolerance is beyond the allowed number of iteration')\n",
    "    return None"
   ]
  },
  {
   "cell_type": "code",
   "execution_count": 327,
   "metadata": {},
   "outputs": [],
   "source": [
    "def printNewtonIteration(x, R):\n",
    "    numOfIteration = 3\n",
    "    finalX, listX, estimates = newton_method(f, x, R, numOfIteration)\n",
    "    count = 0\n",
    "    for x, xi in zip(listX, estimates):\n",
    "        count += 1\n",
    "        print('\\nIteration no.', count)\n",
    "        print('X = ', x)\n",
    "        print('Xi = ', xi)\n",
    "    print('\\nFinal estimation: ', finalX)"
   ]
  },
  {
   "cell_type": "markdown",
   "metadata": {},
   "source": [
    "## Running iteration"
   ]
  },
  {
   "cell_type": "code",
   "execution_count": 328,
   "metadata": {},
   "outputs": [
    {
     "output_type": "stream",
     "name": "stdout",
     "text": "\nIteration no. 1\nX =  1\nXi =  1.5\n\nIteration no. 2\nX =  1.5\nXi =  1.4166666666666665\n\nIteration no. 3\nX =  1.4166666666666665\nXi =  1.4142156862745097\n\nIteration no. 4\nX =  1.4142156862745097\nXi =  1.4142135623746899\n\nIteration no. 5\nX =  1.4142135623746899\nXi =  1.414213562373095\n\nIteration no. 6\nX =  1.414213562373095\nXi =  1.414213562373095\n\nIteration no. 7\nX =  1.414213562373095\nXi =  1.414213562373095\n\nIteration no. 8\nX =  1.414213562373095\nXi =  1.414213562373095\n\nIteration no. 9\nX =  1.414213562373095\nXi =  1.414213562373095\n\nIteration no. 10\nX =  1.414213562373095\nXi =  1.414213562373095\n\nIteration no. 11\nX =  1.414213562373095\nXi =  1.414213562373095\n\nIteration no. 12\nX =  1.414213562373095\nXi =  1.414213562373095\n\nIteration no. 13\nX =  1.414213562373095\nXi =  1.414213562373095\n\nIteration no. 14\nX =  1.414213562373095\nXi =  1.414213562373095\n\nIteration no. 15\nX =  1.414213562373095\nXi =  1.414213562373095\n\nIteration no. 16\nX =  1.414213562373095\nXi =  1.414213562373095\n\nIteration no. 17\nX =  1.414213562373095\nXi =  1.414213562373095\n\nIteration no. 18\nX =  1.414213562373095\nXi =  1.414213562373095\n\nIteration no. 19\nX =  1.414213562373095\nXi =  1.414213562373095\n\nFinal estimation:  1.414213562373095\n"
    }
   ],
   "source": [
    "printNewtonIteration(1, 2)"
   ]
  },
  {
   "cell_type": "code",
   "execution_count": 329,
   "metadata": {},
   "outputs": [
    {
     "output_type": "stream",
     "name": "stdout",
     "text": "\nTo achive the accuracy of  1e-06  with Newton's method, the minimum number of iteration is  4\n"
    }
   ],
   "source": [
    "x = 1\n",
    "R = 2\n",
    "n = newton_MinOfIteration(newton_f, x, R, tol, r)\n",
    "print('\\nTo achive the accuracy of ', tol, ' with Newton\\'s method, the minimum number of iteration is ', n)"
   ]
  },
  {
   "cell_type": "markdown",
   "metadata": {},
   "source": [
    "# Bisection method\n",
    "## Define function\n",
    "$\\sqrt{2}$ is a zero of the function f(x)= $x^{2} - 2$"
   ]
  },
  {
   "cell_type": "code",
   "execution_count": 330,
   "metadata": {},
   "outputs": [],
   "source": [
    "def f(x):\n",
    "    return x**2 -2"
   ]
  },
  {
   "cell_type": "code",
   "execution_count": 331,
   "metadata": {},
   "outputs": [],
   "source": [
    "\n",
    "def bisection_method(f, a, b, NumOfIteration = 1000):\n",
    "    \"\"\"\n",
    "    a, b: the interval\n",
    "    f: the function to be approximated\n",
    "    \"\"\"\n",
    "    if f(a) * f(b) >= 0:\n",
    "        print('Bisection method fails')\n",
    "        return None, None\n",
    "    \n",
    "    a_n = a\n",
    "    b_n = b\n",
    "    midpointRecord = []\n",
    "    for n in range(0, NumOfIteration):\n",
    "        midpoint = (a_n + b_n)/2\n",
    "        midpointRecord.append(midpoint)\n",
    "        fMidpoint = f(midpoint)\n",
    "        if f(a_n) * fMidpoint < 0:\n",
    "            b_n = midpoint\n",
    "        elif f(b_n) * fMidpoint <0:\n",
    "            a_n = midpoint\n",
    "        elif fMidpoint == 0:\n",
    "            print('Found exact solution')\n",
    "            return midpoint\n",
    "    return (a_n + b_n)/2, midpointRecord\n",
    "\n",
    "def bisection_MinOfIteration(f, a, b, r, tol, NumOfIteration = 1000):\n",
    "    if f(a) * f(b) >= 0:\n",
    "        print('Bisection method fails')\n",
    "        return None, None\n",
    "    a_n = a\n",
    "    b_n = b\n",
    "    n = 0\n",
    "    for n in range(0, NumOfIteration):\n",
    "        n += 1\n",
    "        midpoint = (a_n + b_n)/2\n",
    "        if abs(midpoint - r) <= tol:\n",
    "            return n\n",
    "\n",
    "        fMidpoint = f(midpoint)\n",
    "        if f(a_n) * fMidpoint < 0:\n",
    "            b_n = midpoint\n",
    "        elif f(b_n) * fMidpoint <0:\n",
    "            a_n = midpoint\n",
    "        elif fMidpoint == 0:\n",
    "            print('Found exact solution')\n",
    "            return n\n",
    "    print('The min of iteration satisfies tolerance is beyond the allowed number of iteration')\n",
    "    return None"
   ]
  },
  {
   "cell_type": "markdown",
   "metadata": {},
   "source": [
    "## Running iterations"
   ]
  },
  {
   "cell_type": "code",
   "execution_count": 332,
   "metadata": {},
   "outputs": [],
   "source": [
    "def printBisectionIteration(a, b, numOfIteration):\n",
    "    estimation, midpointRecord = bisection_method(f, a, b, numOfIteration)\n",
    "    if(estimation == None):\n",
    "        print('Exiting')\n",
    "        return\n",
    "\n",
    "    count = 0\n",
    "    for i in midpointRecord:\n",
    "        count += 1\n",
    "        print('\\nIteration no.', count)\n",
    "        print('Midpoint: ', i)\n",
    "\n",
    "    print('\\nFinal estimation: ', estimation)"
   ]
  },
  {
   "cell_type": "code",
   "execution_count": 333,
   "metadata": {},
   "outputs": [
    {
     "output_type": "stream",
     "name": "stdout",
     "text": "\nIteration no. 1\nMidpoint:  1.5\n\nIteration no. 2\nMidpoint:  1.25\n\nIteration no. 3\nMidpoint:  1.375\n\nFinal estimation:  1.4375\n"
    }
   ],
   "source": [
    "# Interval [1, 2]\n",
    "a = 1\n",
    "b = 2\n",
    "numOfIteration = 3\n",
    "printBisectionIteration(a, b, numOfIteration)"
   ]
  },
  {
   "cell_type": "code",
   "execution_count": 334,
   "metadata": {},
   "outputs": [
    {
     "output_type": "stream",
     "name": "stdout",
     "text": "Bisection method fails\nExiting\n"
    }
   ],
   "source": [
    "# Test failure case\n",
    "b = 1\n",
    "printBisectionIteration(a, b, numOfIteration)"
   ]
  },
  {
   "cell_type": "markdown",
   "metadata": {},
   "source": [
    "### Theoretically analysis points out that $n \\ge 19$ will yield a result of $10^{-6}$ accuracy with Bisection method"
   ]
  },
  {
   "cell_type": "code",
   "execution_count": 335,
   "metadata": {},
   "outputs": [
    {
     "output_type": "stream",
     "name": "stdout",
     "text": "\nIteration no. 1\nMidpoint:  1.5\n\nIteration no. 2\nMidpoint:  1.25\n\nIteration no. 3\nMidpoint:  1.375\n\nIteration no. 4\nMidpoint:  1.4375\n\nIteration no. 5\nMidpoint:  1.40625\n\nIteration no. 6\nMidpoint:  1.421875\n\nIteration no. 7\nMidpoint:  1.4140625\n\nIteration no. 8\nMidpoint:  1.41796875\n\nIteration no. 9\nMidpoint:  1.416015625\n\nIteration no. 10\nMidpoint:  1.4150390625\n\nIteration no. 11\nMidpoint:  1.41455078125\n\nIteration no. 12\nMidpoint:  1.414306640625\n\nIteration no. 13\nMidpoint:  1.4141845703125\n\nIteration no. 14\nMidpoint:  1.41424560546875\n\nIteration no. 15\nMidpoint:  1.414215087890625\n\nIteration no. 16\nMidpoint:  1.4141998291015625\n\nIteration no. 17\nMidpoint:  1.4142074584960938\n\nIteration no. 18\nMidpoint:  1.4142112731933594\n\nIteration no. 19\nMidpoint:  1.4142131805419922\n\nFinal estimation:  1.4142141342163086\n"
    }
   ],
   "source": [
    "# n >= 19 will guarantee a 10^(-6) accuracy\n",
    "a = 1\n",
    "b = 2\n",
    "numOfIteration = 19\n",
    "printBisectionIteration(a, b, numOfIteration)"
   ]
  },
  {
   "cell_type": "code",
   "execution_count": 336,
   "metadata": {},
   "outputs": [
    {
     "output_type": "stream",
     "name": "stdout",
     "text": "\nTo achive the accuracy of  1e-06  with Bisection method, the minimum number of iteration is  19\n"
    }
   ],
   "source": [
    "# Numerically calculate the minimum number of n for accuracy of 10^(-6)\n",
    "n = bisection_MinOfIteration(f, a, b, r, tol)\n",
    "print('\\nTo achive the accuracy of ', tol, ' with Bisection method, the minimum number of iteration is ', n)"
   ]
  }
 ]
}