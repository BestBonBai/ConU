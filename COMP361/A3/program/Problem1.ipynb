{
 "nbformat": 4,
 "nbformat_minor": 2,
 "metadata": {
  "language_info": {
   "name": "python",
   "codemirror_mode": {
    "name": "ipython",
    "version": 3
   },
   "version": "3.7.3-final"
  },
  "orig_nbformat": 2,
  "file_extension": ".py",
  "mimetype": "text/x-python",
  "name": "python",
  "npconvert_exporter": "python",
  "pygments_lexer": "ipython3",
  "version": 3,
  "kernelspec": {
   "name": "python37364bitcomp361pipenv2b18b57641874b5993fe971ca666fd45",
   "display_name": "Python 3.7.3 64-bit ('COMP361': pipenv)"
  }
 },
 "cells": [
  {
   "cell_type": "markdown",
   "metadata": {},
   "source": [
    "# Problem:\n",
    "Show how to use Newton’s method to compute the cube root\n",
    "of 5. Numerically carry out the first 10 iterations of Newton’s method, using $x^{(0)} = 1$.\n",
    "Analytically determine the fixed points of the Newton iteration and determine whether they are attracting or repelling.\n",
    "If a fixed point is attracting then determine analytically if the convergence is linear or quadratic. \n",
    "Draw the “$x^{(k+1)}$ versus $x^{(k)}$ diagram”, again taking $x^{(0)} = 1$, and draw enough iterations in the diagram, so that the long time behavior is clearly visible. For which values of $x^{(0)}$ will Newton’s method converge?\n"
   ]
  },
  {
   "cell_type": "code",
   "execution_count": 549,
   "metadata": {},
   "outputs": [],
   "source": [
    "import numpy as np\n",
    "from numpy import arange, log\n",
    "from matplotlib import pyplot as plt"
   ]
  },
  {
   "cell_type": "markdown",
   "metadata": {},
   "source": [
    "Cube root of 5 is a zero of the function $$f(x) = x^{3} - 5$$"
   ]
  },
  {
   "cell_type": "code",
   "execution_count": 550,
   "metadata": {},
   "outputs": [],
   "source": [
    "def newton_raphson(f, diff, init_x, max_iter=1000):\n",
    "    x = init_x\n",
    "    estimates = []\n",
    "    listX = [x]\n",
    "    for i in range(max_iter):\n",
    "        deltaX = -f(x)/diff(x)\n",
    "        x = x + deltaX\n",
    "        listX.append(x)\n",
    "        estimates.append(x)\n",
    "    return x, listX, estimates"
   ]
  },
  {
   "cell_type": "markdown",
   "metadata": {},
   "source": [
    "## Define functions and its derivative"
   ]
  },
  {
   "cell_type": "code",
   "execution_count": 551,
   "metadata": {},
   "outputs": [],
   "source": [
    "# f(x) = x^3 -5\n",
    "def f(x):\n",
    "    return pow(x, 3) - 5\n",
    "\n",
    "# f'(x) = 3*x^2\n",
    "def diff(x):\n",
    "    return 3*pow(x, 2)"
   ]
  },
  {
   "cell_type": "markdown",
   "metadata": {},
   "source": [
    "## Running iteration"
   ]
  },
  {
   "cell_type": "code",
   "execution_count": 552,
   "metadata": {},
   "outputs": [
    {
     "output_type": "stream",
     "name": "stdout",
     "text": "Xi =  1\nX(i+1) =  2.333333333333333 \n\nXi =  2.333333333333333\nX(i+1) =  1.8616780045351473 \n\nXi =  1.8616780045351473\nX(i+1) =  1.722001880058607 \n\nXi =  1.722001880058607\nX(i+1) =  1.7100597366002945 \n\nXi =  1.7100597366002945\nX(i+1) =  1.709975950782189 \n\nXi =  1.709975950782189\nX(i+1) =  1.709975946676697 \n\nXi =  1.709975946676697\nX(i+1) =  1.709975946676697 \n\nXi =  1.709975946676697\nX(i+1) =  1.709975946676697 \n\nXi =  1.709975946676697\nX(i+1) =  1.709975946676697 \n\nXi =  1.709975946676697\nX(i+1) =  1.709975946676697 \n\n"
    }
   ],
   "source": [
    "init_guess = 1\n",
    "numOfIteration = 10\n",
    "\n",
    "finalX, listX, estimates = newton_raphson(f, diff, init_guess, numOfIteration)\n",
    "for x, xi in zip(listX, estimates):\n",
    "    print('Xi = ', x)\n",
    "    print('X(i+1) = ', xi, '\\n')"
   ]
  }
 ]
}