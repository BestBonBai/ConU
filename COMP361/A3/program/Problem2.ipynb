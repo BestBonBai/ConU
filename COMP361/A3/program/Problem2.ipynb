{
 "nbformat": 4,
 "nbformat_minor": 2,
 "metadata": {
  "language_info": {
   "name": "python",
   "codemirror_mode": {
    "name": "ipython",
    "version": 3
   },
   "version": "3.7.3-final"
  },
  "orig_nbformat": 2,
  "file_extension": ".py",
  "mimetype": "text/x-python",
  "name": "python",
  "npconvert_exporter": "python",
  "pygments_lexer": "ipython3",
  "version": 3,
  "kernelspec": {
   "name": "python37364bitcomp361pipenv2b18b57641874b5993fe971ca666fd45",
   "display_name": "Python 3.7.3 64-bit ('COMP361': pipenv)"
  }
 },
 "cells": [
  {
   "cell_type": "markdown",
   "metadata": {},
   "source": [
    "# Problem:\n",
    "Also use the Chord method to compute the cube root of 5.\n",
    "Numerically carry out the first 10 iterations of the Chord method, using $x^{(0)} = 1$ . Analytically determine the fixed points of the Chord iteration and determine whether they are attracting or repelling. \n",
    "If a fixed point is attracting then determine analytically if the convergence is linear or quadratic. \n",
    "If the convergence is linear then determine analytically the rate of convergence. Draw the “$x^{(k+1)}$ versus $x^{(k)}$ diagram”, as in the Lecture Notes, again taking $x^{(0)} = 1$, and draw enough iterations in the diagram, so that the long time behavior is clearly visible. \n",
    "Do the same computations and analysis for the Chord Method when $x^{(0)} = 0.1$.\n",
    "More generally, analytically determine all values of $x^{(0)}$ for which the Chord method will converge to the cube root of 5."
   ]
  },
  {
   "cell_type": "code",
   "execution_count": 87,
   "metadata": {},
   "outputs": [],
   "source": [
    "import numpy as np"
   ]
  },
  {
   "cell_type": "markdown",
   "metadata": {},
   "source": [
    "## Define function and its derivative equation"
   ]
  },
  {
   "cell_type": "code",
   "execution_count": 88,
   "metadata": {},
   "outputs": [],
   "source": [
    "def g(x):\n",
    "    return pow(x, 3) - 5\n",
    "\n",
    "def diffG(x):\n",
    "    return 3*(x**2)"
   ]
  },
  {
   "cell_type": "markdown",
   "metadata": {},
   "source": [
    "Cube root of 5 is a zero of the function $$f(x) = x^{3} - 5$$"
   ]
  },
  {
   "cell_type": "code",
   "execution_count": 89,
   "metadata": {},
   "outputs": [],
   "source": [
    "def chord(f, diff, init_x, max_iter=1000):\n",
    "    x = init_x\n",
    "    estimates = []\n",
    "    listX = [x]\n",
    "    diff = diffG(init_x) # Chord method uses f'(x0) prefixed\n",
    "    for i in range(max_iter):\n",
    "        deltaX = -f(x)/diff\n",
    "        x = x + deltaX\n",
    "        listX.append(x)\n",
    "        estimates.append(x)\n",
    "    return x, listX, estimates"
   ]
  },
  {
   "cell_type": "markdown",
   "metadata": {},
   "source": [
    "## Running iteration"
   ]
  },
  {
   "cell_type": "code",
   "execution_count": 90,
   "metadata": {},
   "outputs": [
    {
     "output_type": "stream",
     "name": "stdout",
     "text": "Iteration no.  1\nXi =  1\nX(i+1) =  2.333333333333333 \n\nIteration no.  2\nXi =  2.333333333333333\nX(i+1) =  -0.23456790123456672 \n\nIteration no.  3\nXi =  -0.23456790123456672\nX(i+1) =  1.4364009049609154 \n\nIteration no.  4\nXi =  1.4364009049609154\nX(i+1) =  2.115184017622358 \n\nIteration no.  5\nXi =  2.115184017622358\nX(i+1) =  0.6274038354390186 \n\nIteration no.  6\nXi =  0.6274038354390186\nX(i+1) =  2.2117476794083464 \n\nIteration no.  7\nXi =  2.2117476794083464\nX(i+1) =  0.271918086443556 \n\nIteration no.  8\nXi =  0.271918086443556\nX(i+1) =  1.9318829289112252 \n\nIteration no.  9\nXi =  1.9318829289112252\nX(i+1) =  1.1951766954547978 \n\nIteration no.  10\nXi =  1.1951766954547978\nX(i+1) =  2.2927610409500208 \n\n"
    }
   ],
   "source": [
    "init_guess = 1\n",
    "numOfIteration = 10\n",
    "\n",
    "finalX, listX, estimates = chord(g, diffG, init_guess, numOfIteration)\n",
    "count = 0\n",
    "for x, xi in zip(listX, estimates):\n",
    "    count += 1\n",
    "    print('Iteration no. ', count)\n",
    "    print('Xi = ', x)\n",
    "    print('X(i+1) = ', xi, '\\n')"
   ]
  },
  {
   "cell_type": "code",
   "execution_count": 91,
   "metadata": {},
   "outputs": [
    {
     "output_type": "error",
     "ename": "OverflowError",
     "evalue": "(34, 'Result too large')",
     "traceback": [
      "\u001b[0;31m---------------------------------------------------------------------------\u001b[0m",
      "\u001b[0;31mOverflowError\u001b[0m                             Traceback (most recent call last)",
      "\u001b[0;32m<ipython-input-91-ddd44cbbbdf3>\u001b[0m in \u001b[0;36m<module>\u001b[0;34m\u001b[0m\n\u001b[1;32m      2\u001b[0m \u001b[0mnumOfIteration\u001b[0m \u001b[0;34m=\u001b[0m \u001b[0;36m10\u001b[0m\u001b[0;34m\u001b[0m\u001b[0;34m\u001b[0m\u001b[0m\n\u001b[1;32m      3\u001b[0m \u001b[0;34m\u001b[0m\u001b[0m\n\u001b[0;32m----> 4\u001b[0;31m \u001b[0mfinalX\u001b[0m\u001b[0;34m,\u001b[0m \u001b[0mlistX\u001b[0m\u001b[0;34m,\u001b[0m \u001b[0mestimates\u001b[0m \u001b[0;34m=\u001b[0m \u001b[0mchord\u001b[0m\u001b[0;34m(\u001b[0m\u001b[0mg\u001b[0m\u001b[0;34m,\u001b[0m \u001b[0mdiffG\u001b[0m\u001b[0;34m,\u001b[0m \u001b[0minit_guess\u001b[0m\u001b[0;34m,\u001b[0m \u001b[0mnumOfIteration\u001b[0m\u001b[0;34m)\u001b[0m\u001b[0;34m\u001b[0m\u001b[0;34m\u001b[0m\u001b[0m\n\u001b[0m\u001b[1;32m      5\u001b[0m \u001b[0mcount\u001b[0m \u001b[0;34m=\u001b[0m \u001b[0;36m0\u001b[0m\u001b[0;34m\u001b[0m\u001b[0;34m\u001b[0m\u001b[0m\n\u001b[1;32m      6\u001b[0m \u001b[0;32mfor\u001b[0m \u001b[0mx\u001b[0m\u001b[0;34m,\u001b[0m \u001b[0mxi\u001b[0m \u001b[0;32min\u001b[0m \u001b[0mzip\u001b[0m\u001b[0;34m(\u001b[0m\u001b[0mlistX\u001b[0m\u001b[0;34m,\u001b[0m \u001b[0mestimates\u001b[0m\u001b[0;34m)\u001b[0m\u001b[0;34m:\u001b[0m\u001b[0;34m\u001b[0m\u001b[0;34m\u001b[0m\u001b[0m\n",
      "\u001b[0;32m<ipython-input-89-4761ccc5bfe1>\u001b[0m in \u001b[0;36mchord\u001b[0;34m(f, diff, init_x, max_iter)\u001b[0m\n\u001b[1;32m      5\u001b[0m     \u001b[0mdiff\u001b[0m \u001b[0;34m=\u001b[0m \u001b[0mdiffG\u001b[0m\u001b[0;34m(\u001b[0m\u001b[0minit_x\u001b[0m\u001b[0;34m)\u001b[0m \u001b[0;31m# Chord method uses f'(x0) prefixed\u001b[0m\u001b[0;34m\u001b[0m\u001b[0;34m\u001b[0m\u001b[0m\n\u001b[1;32m      6\u001b[0m     \u001b[0;32mfor\u001b[0m \u001b[0mi\u001b[0m \u001b[0;32min\u001b[0m \u001b[0mrange\u001b[0m\u001b[0;34m(\u001b[0m\u001b[0mmax_iter\u001b[0m\u001b[0;34m)\u001b[0m\u001b[0;34m:\u001b[0m\u001b[0;34m\u001b[0m\u001b[0;34m\u001b[0m\u001b[0m\n\u001b[0;32m----> 7\u001b[0;31m         \u001b[0mdeltaX\u001b[0m \u001b[0;34m=\u001b[0m \u001b[0;34m-\u001b[0m\u001b[0mf\u001b[0m\u001b[0;34m(\u001b[0m\u001b[0mx\u001b[0m\u001b[0;34m)\u001b[0m\u001b[0;34m/\u001b[0m\u001b[0mdiff\u001b[0m\u001b[0;34m\u001b[0m\u001b[0;34m\u001b[0m\u001b[0m\n\u001b[0m\u001b[1;32m      8\u001b[0m         \u001b[0mx\u001b[0m \u001b[0;34m=\u001b[0m \u001b[0mx\u001b[0m \u001b[0;34m+\u001b[0m \u001b[0mdeltaX\u001b[0m\u001b[0;34m\u001b[0m\u001b[0;34m\u001b[0m\u001b[0m\n\u001b[1;32m      9\u001b[0m         \u001b[0mlistX\u001b[0m\u001b[0;34m.\u001b[0m\u001b[0mappend\u001b[0m\u001b[0;34m(\u001b[0m\u001b[0mx\u001b[0m\u001b[0;34m)\u001b[0m\u001b[0;34m\u001b[0m\u001b[0;34m\u001b[0m\u001b[0m\n",
      "\u001b[0;32m<ipython-input-88-0d1bf43c3bcf>\u001b[0m in \u001b[0;36mg\u001b[0;34m(x)\u001b[0m\n\u001b[1;32m      1\u001b[0m \u001b[0;32mdef\u001b[0m \u001b[0mg\u001b[0m\u001b[0;34m(\u001b[0m\u001b[0mx\u001b[0m\u001b[0;34m)\u001b[0m\u001b[0;34m:\u001b[0m\u001b[0;34m\u001b[0m\u001b[0;34m\u001b[0m\u001b[0m\n\u001b[0;32m----> 2\u001b[0;31m     \u001b[0;32mreturn\u001b[0m \u001b[0mpow\u001b[0m\u001b[0;34m(\u001b[0m\u001b[0mx\u001b[0m\u001b[0;34m,\u001b[0m \u001b[0;36m3\u001b[0m\u001b[0;34m)\u001b[0m \u001b[0;34m-\u001b[0m \u001b[0;36m5\u001b[0m\u001b[0;34m\u001b[0m\u001b[0;34m\u001b[0m\u001b[0m\n\u001b[0m\u001b[1;32m      3\u001b[0m \u001b[0;34m\u001b[0m\u001b[0m\n\u001b[1;32m      4\u001b[0m \u001b[0;32mdef\u001b[0m \u001b[0mdiffG\u001b[0m\u001b[0;34m(\u001b[0m\u001b[0mx\u001b[0m\u001b[0;34m)\u001b[0m\u001b[0;34m:\u001b[0m\u001b[0;34m\u001b[0m\u001b[0;34m\u001b[0m\u001b[0m\n\u001b[1;32m      5\u001b[0m     \u001b[0;32mreturn\u001b[0m \u001b[0;36m3\u001b[0m\u001b[0;34m*\u001b[0m\u001b[0;34m(\u001b[0m\u001b[0mx\u001b[0m\u001b[0;34m**\u001b[0m\u001b[0;36m2\u001b[0m\u001b[0;34m)\u001b[0m\u001b[0;34m\u001b[0m\u001b[0;34m\u001b[0m\u001b[0m\n",
      "\u001b[0;31mOverflowError\u001b[0m: (34, 'Result too large')"
     ]
    }
   ],
   "source": [
    "init_guess = 0.1\n",
    "numOfIteration = 10\n",
    "\n",
    "finalX, listX, estimates = chord(g, diffG, init_guess, numOfIteration)\n",
    "count = 0\n",
    "for x, xi in zip(listX, estimates):\n",
    "    count += 1\n",
    "    print('Iteration no. ', count)\n",
    "    print('Xi = ', x)\n",
    "    print('X(i+1) = ', xi, '\\n')"
   ]
  },
  {
   "cell_type": "code",
   "execution_count": null,
   "metadata": {},
   "outputs": [],
   "source": [
    "### Note: The result after the 5th iteration will be too large for computing. Expect Overflow."
   ]
  }
 ]
}