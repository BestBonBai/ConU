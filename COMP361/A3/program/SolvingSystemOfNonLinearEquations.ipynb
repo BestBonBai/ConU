{
 "nbformat": 4,
 "nbformat_minor": 2,
 "metadata": {
  "language_info": {
   "name": "python",
   "codemirror_mode": {
    "name": "ipython",
    "version": 3
   },
   "version": "3.7.3-final"
  },
  "orig_nbformat": 2,
  "file_extension": ".py",
  "mimetype": "text/x-python",
  "name": "python",
  "npconvert_exporter": "python",
  "pygments_lexer": "ipython3",
  "version": 3,
  "kernelspec": {
   "name": "python37364bitcomp361pipenv2b18b57641874b5993fe971ca666fd45",
   "display_name": "Python 3.7.3 64-bit ('COMP361': pipenv)"
  }
 },
 "cells": [
  {
   "cell_type": "markdown",
   "metadata": {},
   "source": [
    "# Problem:\n",
    "\n",
    "Consider the example of solving a system of nonlinear equations\n",
    "by Newton’s method, as given on Pages 95-97 of the Lecture notes. Write a program\n",
    "to carry out this iteration, using Gauss elimination to solve the 2 by 2 linear systems that arise. Use each of the following 16 initial data sets for the Newton iteration:\n",
    "\n",
    "$$ (x_{1}^{0}, x_{2}^{0}) = (i, j), i = 0, 1, 2, 3 , j = 0, 1, 2, 3 .  $$"
   ]
  },
  {
   "cell_type": "markdown",
   "metadata": {},
   "source": [
    "## The problem in lecture notes:\n",
    "Use Newton's method to solve the system:\n",
    "$$\n",
    "x_{1}^{2} - 1 = 0 \\\\\n",
    "x_{2} - x_{1}^{4} = 0 \n",
    "$$\n"
   ]
  },
  {
   "cell_type": "code",
   "execution_count": 200,
   "metadata": {},
   "outputs": [],
   "source": [
    "import numpy as np\n"
   ]
  },
  {
   "cell_type": "markdown",
   "metadata": {},
   "source": [
    "### Support functions to solve the system"
   ]
  },
  {
   "cell_type": "code",
   "execution_count": 201,
   "metadata": {},
   "outputs": [],
   "source": [
    "# The original system of linear equation\n",
    "def G(x):\n",
    "    g1 = pow(x[0], 2)*x[1] - 1\n",
    "    g2 = x[1] - pow(x[0], 4)\n",
    "    return np.array([g1, g2], dtype = np.float)\n",
    "\n",
    "def convertG(x):\n",
    "    for number in x:\n",
    "        if(number != 0):\n",
    "            number = -1 * number\n",
    "    return x\n",
    "\n",
    "# Jacobian matrix\n",
    "def dG(x):\n",
    "    J = np.zeros([len(x), len(x)], dtype = np.float)\n",
    "    eps = 1e-10\n",
    "    for i in range(len(x)):\n",
    "        x1 = x.copy()\n",
    "        x2 = x.copy()\n",
    "\n",
    "        x1[i] += eps\n",
    "        x2[i] -= eps\n",
    "\n",
    "        g1 = G(x1)\n",
    "        g2 = G(x2)\n",
    "\n",
    "        J[ : ,i] = (g1 - g2) / (2 * eps)\n",
    "    \n",
    "    return J\n",
    "\n",
    "def calculateDeltaX(dG, G):\n",
    "    return np.linalg.solve(dG, G)\n",
    "\n",
    "def estimateIteration(guess, deltaX):\n",
    "    return np.add(guess, deltaX)"
   ]
  },
  {
   "cell_type": "markdown",
   "metadata": {},
   "source": [
    "### Functions to test out the given data set"
   ]
  },
  {
   "cell_type": "code",
   "execution_count": 202,
   "metadata": {},
   "outputs": [
    {
     "name": "stdout",
     "output_type": "stream",
     "text": "\nIteration: no. 1\ni =  1  j =  1\nx1 =  1.0  x2 =  1.0\n\nIteration: no. 2\ni =  1  j =  2\nx1 =  1.0  x2 =  2.999999917259636\n\nIteration: no. 3\ni =  1  j =  3\nx1 =  1.0  x2 =  4.999999834519272\n\nIteration: no. 4\ni =  2  j =  1\nx1 =  2.477272687783008  x2 =  1.2727272501617188\n\nIteration: no. 5\ni =  2  j =  2\nx1 =  2.46323525578939  x2 =  2.8235293436255824\n\nIteration: no. 6\ni =  2  j =  3\nx1 =  2.449999962766836  x2 =  4.39999988416349\n\nIteration: no. 7\ni =  3  j =  1\nx1 =  3.7443757939848985  x2 =  1.3926382860186328\n\nIteration: no. 8\ni =  3  j =  2\nx1 =  3.7398369866787884  x2 =  2.9024376358618897\n\nIteration: no. 9\ni =  3  j =  3\nx1 =  3.7353532030813827  x2 =  4.418179444595575\n"
    }
   ],
   "source": [
    "def solveIteration(guessX1, guessX2):\n",
    "    initGuess = np.array([guessX1, guessX2], dtype = np.float)\n",
    "    funcG = G(initGuess)\n",
    "    funcG = convertG(funcG)\n",
    "    funcDG = dG(initGuess)\n",
    "    deltaX = calculateDeltaX(funcDG, funcG)\n",
    "    results = estimateIteration(initGuess, deltaX)\n",
    "    return results\n",
    "\n",
    "def SolveDataSet(rangeSet):\n",
    "    count = 0\n",
    "    for i in guessSet:\n",
    "        for j in guessSet:\n",
    "            count = count + 1\n",
    "            print(\"\\nIteration: no.\", count)\n",
    "            print(\"i = \", i, \" j = \", j)\n",
    "            estimation = solveIteration(i, j)\n",
    "            print(\"x1 = \", estimation[0], \" x2 = \", estimation[1])\n",
    "\n",
    "guessSet = range(1, 4)\n",
    "SolveDataSet(guessSet)"
   ]
  }
 ]
}